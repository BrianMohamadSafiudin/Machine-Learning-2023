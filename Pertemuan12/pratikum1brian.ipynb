{
  "cells": [
    {
      "cell_type": "markdown",
      "metadata": {},
      "source": [
        "# Nama      : Brian Mohamad Safiudin\n",
        "# NIM       : 2141720133\n",
        "# Kelas     : TI - 3F"
      ]
    }
  ],
  "metadata": {
    "accelerator": "GPU",
    "colab": {
      "authorship_tag": "ABX9TyNTfPiVxVbb9BgT/TQx7JH8",
      "gpuType": "T4",
      "include_colab_link": true,
      "mount_file_id": "https://github.com/MuhammadHatta72/machine-learning-semester5/blob/main/meet11/Pratikum1_Meet11_ML.ipynb",
      "provenance": []
    },
    "kernelspec": {
      "display_name": "Python 3",
      "name": "python3"
    },
    "language_info": {
      "name": "python"
    }
  },
  "nbformat": 4,
  "nbformat_minor": 0
}
